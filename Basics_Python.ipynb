{
 "cells": [
  {
   "cell_type": "code",
   "execution_count": null,
   "id": "deeed627",
   "metadata": {},
   "outputs": [],
   "source": [
    " a=20\n",
    " print(a)"
   ]
  },
  {
   "cell_type": "code",
   "execution_count": null,
   "id": "11ae4de7",
   "metadata": {},
   "outputs": [],
   "source": [
    "name = 'shakil'\n",
    "print(name)\n",
    "len(name)\n",
    "name[4:2] "
   ]
  },
  {
   "cell_type": "code",
   "execution_count": null,
   "id": "6186667a",
   "metadata": {},
   "outputs": [],
   "source": [
    "print('hello world')"
   ]
  },
  {
   "cell_type": "markdown",
   "id": "c9c7867b",
   "metadata": {},
   "source": [
    "# varbiable python"
   ]
  },
  {
   "cell_type": "code",
   "execution_count": null,
   "id": "30e74c51",
   "metadata": {},
   "outputs": [],
   "source": [
    "charecter_name = \"shakil \"\n",
    "charecter_age= \"20 \"\n",
    "print(\"my name is \"+charecter_name+\".\")\n",
    "print(\"i am \"+charecter_age+\" years old\")\n",
    "print(\" i really likes the name \"+charecter_name+\".\")"
   ]
  },
  {
   "cell_type": "markdown",
   "id": "08e7b013",
   "metadata": {},
   "source": [
    "# working with string\n"
   ]
  },
  {
   "cell_type": "code",
   "execution_count": null,
   "id": "aa14c40e",
   "metadata": {},
   "outputs": [],
   "source": [
    "Choing_name = \"Learning point\"\n",
    "print(Choing_name)\n",
    "print(Choing_name.lower())\n",
    "print(Choing_name.upper())\n",
    "print(len(Choing_name))\n",
    "Choing_name[2:5]\n",
    "print(Choing_name.isupper())\n",
    "print(Choing_name.islower())\n",
    "print(Choing_name.upper().isupper())\n",
    "print(Choing_name.lower().islower())\n",
    "print(Choing_name[0:3])\n",
    "print(Choing_name.index('p'))\n",
    "print(Choing_name.replace(\"Learning\",\"shakil\"))"
   ]
  },
  {
   "cell_type": "markdown",
   "id": "b9ffa32b",
   "metadata": {},
   "source": [
    "# working with number\n"
   ]
  },
  {
   "cell_type": "code",
   "execution_count": null,
   "id": "5c6a39c5",
   "metadata": {},
   "outputs": [],
   "source": [
    "from math import *\n",
    "\n",
    "print(74)\n",
    "print(3.4)\n",
    "print(-78)\n",
    "print(7*7)\n",
    "print(7/7)\n",
    "print(7%7)\n",
    "print(ceil(36))\n",
    "print(sqrt(25))"
   ]
  },
  {
   "cell_type": "code",
   "execution_count": null,
   "id": "110162e2",
   "metadata": {},
   "outputs": [],
   "source": [
    "name = input(\"Enter your name : \")\n",
    "print(\"hello\"+name+\"!\")"
   ]
  },
  {
   "cell_type": "markdown",
   "id": "e93980b6",
   "metadata": {},
   "source": [
    "# basics calculator"
   ]
  },
  {
   "cell_type": "code",
   "execution_count": null,
   "id": "23f52f6e",
   "metadata": {},
   "outputs": [],
   "source": [
    "num1= int(input(\"enter the value number 1: \"))\n",
    "num2= int(input(\"enter the value number 2: \"))\n",
    "result = num1+num2\n",
    "print(int(result))"
   ]
  }
 ],
 "metadata": {
  "kernelspec": {
   "display_name": "Python 3 (ipykernel)",
   "language": "python",
   "name": "python3"
  },
  "language_info": {
   "codemirror_mode": {
    "name": "ipython",
    "version": 3
   },
   "file_extension": ".py",
   "mimetype": "text/x-python",
   "name": "python",
   "nbconvert_exporter": "python",
   "pygments_lexer": "ipython3",
   "version": "3.9.13"
  }
 },
 "nbformat": 4,
 "nbformat_minor": 5
}
