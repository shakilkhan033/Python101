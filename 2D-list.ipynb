{
 "cells": [
  {
   "cell_type": "code",
   "execution_count": 4,
   "id": "30efe9da",
   "metadata": {},
   "outputs": [
    {
     "name": "stdout",
     "output_type": "stream",
     "text": [
      "4\n"
     ]
    }
   ],
   "source": [
    "number_grid = [\n",
    "    [1,2,3],\n",
    "    [4,5,6],\n",
    "    [7,8,9],\n",
    "    [0]\n",
    "    \n",
    "    \n",
    "]\n",
    "\n",
    "print(number_grid[1][0])"
   ]
  },
  {
   "cell_type": "code",
   "execution_count": 7,
   "id": "fde455a4",
   "metadata": {},
   "outputs": [
    {
     "name": "stdout",
     "output_type": "stream",
     "text": [
      "1\n",
      "2\n",
      "3\n",
      "4\n",
      "5\n",
      "6\n",
      "7\n",
      "8\n",
      "9\n",
      "0\n"
     ]
    }
   ],
   "source": [
    "number_grid = [\n",
    "    [1,2,3],\n",
    "    [4,5,6],\n",
    "    [7,8,9],\n",
    "    [0]\n",
    "    \n",
    "]\n",
    "\n",
    "for row in number_grid:\n",
    "      for col in row:\n",
    "            print(col)\n",
    "\n",
    "\n"
   ]
  },
  {
   "cell_type": "markdown",
   "id": "9d58e0b2",
   "metadata": {},
   "source": [
    "# teanslator"
   ]
  },
  {
   "cell_type": "markdown",
   "id": "ee9ecec7",
   "metadata": {},
   "source": [
    "# ginnafe language"
   ]
  },
  {
   "cell_type": "code",
   "execution_count": 8,
   "id": "8c3872ea",
   "metadata": {},
   "outputs": [],
   "source": [
    "##vowel covert to g\n"
   ]
  },
  {
   "cell_type": "code",
   "execution_count": null,
   "id": "fe6ef3e9",
   "metadata": {},
   "outputs": [],
   "source": []
  }
 ],
 "metadata": {
  "kernelspec": {
   "display_name": "Python 3 (ipykernel)",
   "language": "python",
   "name": "python3"
  },
  "language_info": {
   "codemirror_mode": {
    "name": "ipython",
    "version": 3
   },
   "file_extension": ".py",
   "mimetype": "text/x-python",
   "name": "python",
   "nbconvert_exporter": "python",
   "pygments_lexer": "ipython3",
   "version": "3.9.13"
  }
 },
 "nbformat": 4,
 "nbformat_minor": 5
}
