{
 "cells": [
  {
   "cell_type": "code",
   "execution_count": 4,
   "id": "1b9478af",
   "metadata": {},
   "outputs": [
    {
     "name": "stdout",
     "output_type": "stream",
     "text": [
      "None\n"
     ]
    }
   ],
   "source": [
    "month_name = {\n",
    "    \n",
    "    \"jan\":\"january\",\n",
    "    \"feb\":\"febuary\",\n",
    "    \"mar\":\"march\",\n",
    "    \"apr\":\"april\",\n",
    "    \"Ma\":\"May\",\n",
    "    \"jn\":\"june\",\n",
    "    \"jul\":\"july\",\n",
    "    \"aug\":\"augest\",\n",
    "    \"sep\":\"september\",\n",
    "    \"oct\":\"october\",\n",
    "    \"nov\":\"november\",\n",
    "    \"dec\":\"decmber\"\n",
    "    \n",
    "    \n",
    "}\n",
    "print(month_name.get(\"bar\"))"
   ]
  },
  {
   "cell_type": "code",
   "execution_count": null,
   "id": "e6be1c92",
   "metadata": {},
   "outputs": [],
   "source": []
  }
 ],
 "metadata": {
  "kernelspec": {
   "display_name": "Python 3 (ipykernel)",
   "language": "python",
   "name": "python3"
  },
  "language_info": {
   "codemirror_mode": {
    "name": "ipython",
    "version": 3
   },
   "file_extension": ".py",
   "mimetype": "text/x-python",
   "name": "python",
   "nbconvert_exporter": "python",
   "pygments_lexer": "ipython3",
   "version": "3.9.13"
  }
 },
 "nbformat": 4,
 "nbformat_minor": 5
}
