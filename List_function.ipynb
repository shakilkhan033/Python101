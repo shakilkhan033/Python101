{
 "cells": [
  {
   "cell_type": "code",
   "execution_count": 26,
   "id": "4aab317a",
   "metadata": {},
   "outputs": [
    {
     "name": "stdout",
     "output_type": "stream",
     "text": [
      "['rahim', 'karim']\n",
      "['rahim', 'karim', 'emran']\n",
      "['samirabikrama', 'rahim', 'karim', 'emran']\n",
      "['samirabikrama', 'rahim', 'karim']\n",
      "2\n",
      "['samirabikrama', 'rahim', 'karim']\n",
      "[]\n",
      "[1, 2, 3, 4, 5, 4, 5, 6]\n"
     ]
    }
   ],
   "source": [
    "list_number= [1,2,3,4,5,4,5,6,]\n",
    "list_name =  [\"shakil\",\"rahim\",\"karim\"]\n",
    "\n",
    "list_name.remove('shakil')\n",
    "print(list_name)\n",
    "list_name.append(\"emran\")\n",
    "print(list_name)\n",
    "list_name.insert(0,\"samirabikrama\")\n",
    "print(list_name)\n",
    "list_name.pop()\n",
    "\n",
    "print(list_name)\n",
    "\n",
    "print(list_name.index(\"karim\"))\n",
    "\n",
    "\n",
    "list_name.count(\"karim\")\n",
    "print(list_name)\n",
    "\n",
    "list_name.short\n",
    "list_name.clear()\n",
    "print(list_name)\n",
    "list_number.extend(list_name)\n",
    "\n",
    "\n",
    "print(list)"
   ]
  },
  {
   "cell_type": "code",
   "execution_count": null,
   "id": "c9363177",
   "metadata": {},
   "outputs": [],
   "source": []
  }
 ],
 "metadata": {
  "kernelspec": {
   "display_name": "Python 3 (ipykernel)",
   "language": "python",
   "name": "python3"
  },
  "language_info": {
   "codemirror_mode": {
    "name": "ipython",
    "version": 3
   },
   "file_extension": ".py",
   "mimetype": "text/x-python",
   "name": "python",
   "nbconvert_exporter": "python",
   "pygments_lexer": "ipython3",
   "version": "3.9.13"
  }
 },
 "nbformat": 4,
 "nbformat_minor": 5
}
