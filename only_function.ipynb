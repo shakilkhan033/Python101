{
 "cells": [
  {
   "cell_type": "code",
   "execution_count": 5,
   "id": "e1b9c73a",
   "metadata": {},
   "outputs": [
    {
     "name": "stdout",
     "output_type": "stream",
     "text": [
      "please enter the number 1 :10\n",
      "please enter the number 2 :20\n",
      "30\n"
     ]
    }
   ],
   "source": [
    "\n",
    "n1=int(input(\"please enter the number 1 :\"))\n",
    "n2=int(input(\"please enter the number 2 :\"))\n",
    "\n",
    "def add(x,y):\n",
    "    add= x+y\n",
    "    return add\n",
    "print(add(n1,n2))"
   ]
  },
  {
   "cell_type": "markdown",
   "id": "213582fb",
   "metadata": {},
   "source": [
    "# using function calculator "
   ]
  },
  {
   "cell_type": "code",
   "execution_count": 6,
   "id": "2aa1563c",
   "metadata": {},
   "outputs": [
    {
     "name": "stdout",
     "output_type": "stream",
     "text": [
      "please enter the number 1 :10\n",
      "please enter the number 2 :20\n",
      "30\n",
      "-10\n",
      "200\n",
      "0.5\n"
     ]
    }
   ],
   "source": [
    "n1=int(input(\"please enter the number 1 :\"))\n",
    "n2=int(input(\"please enter the number 2 :\"))\n",
    "\n",
    "def sum(x,y):\n",
    "    sum=x+y\n",
    "    return sum\n",
    "\n",
    "sum=sum(n1,n2)\n",
    "\n",
    "print(sum)\n",
    "\n",
    "def sub(x,y):\n",
    "    sub=x-y\n",
    "    return sub\n",
    "\n",
    "\n",
    "print(sub(n1,n2))\n",
    "\n",
    "def multiplication(x,y):\n",
    "    multiplication=x*y\n",
    "    return multiplication\n",
    "\n",
    "print(multiplication(n1,n2))\n",
    "\n",
    "\n",
    "def div(x,y):\n",
    "    div=x/y\n",
    "    return div\n",
    "print(div(n1,n2))"
   ]
  },
  {
   "cell_type": "code",
   "execution_count": 9,
   "id": "bb680ecb",
   "metadata": {},
   "outputs": [
    {
     "ename": "TypeError",
     "evalue": "'int' object is not callable",
     "output_type": "error",
     "traceback": [
      "\u001b[1;31m---------------------------------------------------------------------------\u001b[0m",
      "\u001b[1;31mTypeError\u001b[0m                                 Traceback (most recent call last)",
      "\u001b[1;32m~\\AppData\\Local\\Temp\\ipykernel_14560\\3431301242.py\u001b[0m in \u001b[0;36m<module>\u001b[1;34m\u001b[0m\n\u001b[0;32m      1\u001b[0m \u001b[0mnumbers\u001b[0m \u001b[1;33m=\u001b[0m \u001b[1;33m[\u001b[0m\u001b[1;36m1\u001b[0m\u001b[1;33m,\u001b[0m \u001b[1;36m2\u001b[0m\u001b[1;33m,\u001b[0m \u001b[1;36m3\u001b[0m\u001b[1;33m,\u001b[0m \u001b[1;36m4\u001b[0m\u001b[1;33m,\u001b[0m \u001b[1;36m5\u001b[0m\u001b[1;33m]\u001b[0m\u001b[1;33m\u001b[0m\u001b[1;33m\u001b[0m\u001b[0m\n\u001b[1;32m----> 2\u001b[1;33m \u001b[0mtotal\u001b[0m \u001b[1;33m=\u001b[0m \u001b[0msum\u001b[0m\u001b[1;33m(\u001b[0m\u001b[0mnumbers\u001b[0m\u001b[1;33m)\u001b[0m\u001b[1;33m\u001b[0m\u001b[1;33m\u001b[0m\u001b[0m\n\u001b[0m\u001b[0;32m      3\u001b[0m \u001b[0mprint\u001b[0m\u001b[1;33m(\u001b[0m\u001b[0mtotal\u001b[0m\u001b[1;33m)\u001b[0m\u001b[1;33m\u001b[0m\u001b[1;33m\u001b[0m\u001b[0m\n",
      "\u001b[1;31mTypeError\u001b[0m: 'int' object is not callable"
     ]
    }
   ],
   "source": [
    "numbers = [1, 2, 3, 4, 5]\n",
    "total = sum(numbers)\n",
    "print(total)"
   ]
  },
  {
   "cell_type": "code",
   "execution_count": null,
   "id": "4e8056c2",
   "metadata": {},
   "outputs": [],
   "source": []
  },
  {
   "cell_type": "code",
   "execution_count": null,
   "id": "1a8c4623",
   "metadata": {},
   "outputs": [],
   "source": []
  }
 ],
 "metadata": {
  "kernelspec": {
   "display_name": "Python 3 (ipykernel)",
   "language": "python",
   "name": "python3"
  },
  "language_info": {
   "codemirror_mode": {
    "name": "ipython",
    "version": 3
   },
   "file_extension": ".py",
   "mimetype": "text/x-python",
   "name": "python",
   "nbconvert_exporter": "python",
   "pygments_lexer": "ipython3",
   "version": "3.9.13"
  }
 },
 "nbformat": 4,
 "nbformat_minor": 5
}
