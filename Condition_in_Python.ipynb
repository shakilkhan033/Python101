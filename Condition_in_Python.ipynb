{
 "cells": [
  {
   "cell_type": "markdown",
   "id": "ae304389",
   "metadata": {},
   "source": [
    "# biggest number use function"
   ]
  },
  {
   "cell_type": "code",
   "execution_count": 4,
   "id": "24413478",
   "metadata": {},
   "outputs": [
    {
     "name": "stdout",
     "output_type": "stream",
     "text": [
      "please enter the number of a:10\n",
      "please enter the  number of b : 20\n",
      "please enter the  number of c : 30\n",
      "30\n"
     ]
    }
   ],
   "source": [
    "n1=int(input(\"please enter the number of a:\"))\n",
    "n2=int(input(\"please enter the  number of b : \"))\n",
    "n3=int(input(\"please enter the  number of c : \"))\n",
    "\n",
    "def biggest(num1,num2,num3):\n",
    "    if num1>num2 and num1>num3:\n",
    "        print(num1)\n",
    "    elif num2>num1 and num2>num3:\n",
    "        print(num2)\n",
    "    else:\n",
    "        print(num3)\n",
    "    \n",
    "biggest(n1,n2,n3)"
   ]
  },
  {
   "cell_type": "markdown",
   "id": "f28adcde",
   "metadata": {},
   "source": [
    "# country conditon in sarce"
   ]
  },
  {
   "cell_type": "code",
   "execution_count": 1,
   "id": "4b2b3ea3",
   "metadata": {},
   "outputs": [
    {
     "name": "stdout",
     "output_type": "stream",
     "text": [
      "enter the country nameBangladesh\n",
      " okey\n"
     ]
    }
   ],
   "source": [
    "sarce = [\"Bangladesh\",\"Pakistan\",\"India\",\"China\",\"Vutan\",\"Nepal\"]\n",
    "\n",
    "country_name =input(\"enter the country name\")\n",
    "\n",
    "if country_name in sarce:\n",
    "    print(\" okey\")\n",
    "else:\n",
    "    print(\"not ok\")\n"
   ]
  },
  {
   "cell_type": "markdown",
   "id": "3776f509",
   "metadata": {},
   "source": [
    "result_in_collage"
   ]
  },
  {
   "cell_type": "code",
   "execution_count": 5,
   "id": "22ac80eb",
   "metadata": {},
   "outputs": [
    {
     "name": "stdout",
     "output_type": "stream",
     "text": [
      "enter the number33\n",
      "Fail sorry you are again exam \n"
     ]
    }
   ],
   "source": [
    "marks = int(input(\"enter the number\"))\n",
    "\n",
    "if marks>=80 :\n",
    "    print(\"A+\")\n",
    "elif marks>=70:\n",
    "    print(\"A\")\n",
    "elif marks>=60:\n",
    "    print(\"A-\")\n",
    "elif marks>=50:\n",
    "    print(\"b\")\n",
    "elif marks>=40:\n",
    "    print(\"C\")\n",
    "else :\n",
    "    print(\"Fail sorry you are again exam \")"
   ]
  },
  {
   "cell_type": "markdown",
   "id": "34e771a0",
   "metadata": {},
   "source": [
    "# leap_year"
   ]
  },
  {
   "cell_type": "code",
   "execution_count": 6,
   "id": "725dd663",
   "metadata": {},
   "outputs": [
    {
     "name": "stdout",
     "output_type": "stream",
     "text": [
      "Enter the number of one : 400\n",
      "leapyear\n"
     ]
    }
   ],
   "source": [
    "number_of_the_year = int(input(\"Enter the number of one : \"))\n",
    "\n",
    "if number_of_the_year%4==0:\n",
    "    if number_of_the_year%100==0:\n",
    "        if number_of_the_year%400==0:\n",
    "            print(\"leapyear\")\n",
    "else:\n",
    "    print(\"not Leapayear\")"
   ]
  },
  {
   "cell_type": "code",
   "execution_count": null,
   "id": "ce99f6b5",
   "metadata": {},
   "outputs": [],
   "source": []
  }
 ],
 "metadata": {
  "kernelspec": {
   "display_name": "Python 3 (ipykernel)",
   "language": "python",
   "name": "python3"
  },
  "language_info": {
   "codemirror_mode": {
    "name": "ipython",
    "version": 3
   },
   "file_extension": ".py",
   "mimetype": "text/x-python",
   "name": "python",
   "nbconvert_exporter": "python",
   "pygments_lexer": "ipython3",
   "version": "3.9.13"
  }
 },
 "nbformat": 4,
 "nbformat_minor": 5
}
