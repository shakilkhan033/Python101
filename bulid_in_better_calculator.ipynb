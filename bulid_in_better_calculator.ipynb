{
 "cells": [
  {
   "cell_type": "code",
   "execution_count": 3,
   "id": "77f42395",
   "metadata": {},
   "outputs": [
    {
     "name": "stdout",
     "output_type": "stream",
     "text": [
      "enter the number of n1: 10\n",
      "enter the number of n2: 10\n",
      "enter the oparator+\n",
      "20.0\n"
     ]
    }
   ],
   "source": [
    "n1 = float(input(\"enter the number of n1: \"))\n",
    "n2 = float(input(\"enter the number of n2: \"))\n",
    "op= input(\"enter the oparator\")\n",
    "\n",
    "if op=='+':\n",
    "    print(n1+n2)\n",
    "elif op=='-':\n",
    "    print(n1-n2)\n",
    "elif op=='*':\n",
    "    print(n1*n2)\n",
    "elif op=='%':\n",
    "    print(n1/n2)\n",
    "else:\n",
    "    print(\"invalid opatartor\")"
   ]
  },
  {
   "cell_type": "markdown",
   "id": "6c1a5d22",
   "metadata": {},
   "source": [
    "# using function"
   ]
  },
  {
   "cell_type": "code",
   "execution_count": 4,
   "id": "f7043389",
   "metadata": {},
   "outputs": [
    {
     "name": "stdout",
     "output_type": "stream",
     "text": [
      "enter the number of n1: 10\n",
      "enter the number of n2: 10\n",
      "20.0\n"
     ]
    }
   ],
   "source": [
    "n1 = float(input(\"enter the number of n1: \"))\n",
    "n2 = float(input(\"enter the number of n2: \"))\n",
    "\n",
    "def add(x,y):\n",
    "    sum=x+y\n",
    "    return sum\n",
    "sum = add(n1,n2)\n",
    "print(sum)\n",
    "\n",
    "def sub(x,y):\n",
    "    sum=x-y\n",
    "    return sum\n",
    "sum = add(n1,n2)\n",
    "print(sum)\n",
    "def mul(x,y):\n",
    "    sum=x*y\n",
    "    return sum\n",
    "sum = add(n1,n2)\n",
    "print(sum)\n",
    "def div(x,y):\n",
    "    sum=x/y\n",
    "    return sum\n",
    "sum = add(n1,n2)\n",
    "print(sum)\n",
    "def add(x,y):\n",
    "    sum=x+y\n",
    "    return sum\n",
    "sum = add(n1,n2)\n",
    "print(sum)"
   ]
  },
  {
   "cell_type": "code",
   "execution_count": null,
   "id": "5c83e11b",
   "metadata": {},
   "outputs": [],
   "source": []
  }
 ],
 "metadata": {
  "kernelspec": {
   "display_name": "Python 3 (ipykernel)",
   "language": "python",
   "name": "python3"
  },
  "language_info": {
   "codemirror_mode": {
    "name": "ipython",
    "version": 3
   },
   "file_extension": ".py",
   "mimetype": "text/x-python",
   "name": "python",
   "nbconvert_exporter": "python",
   "pygments_lexer": "ipython3",
   "version": "3.9.13"
  }
 },
 "nbformat": 4,
 "nbformat_minor": 5
}
