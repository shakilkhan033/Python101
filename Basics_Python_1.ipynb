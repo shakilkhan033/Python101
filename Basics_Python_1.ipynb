{
 "cells": [
  {
   "cell_type": "markdown",
   "id": "746e3d34",
   "metadata": {},
   "source": [
    "# Mid Lab Game"
   ]
  },
  {
   "cell_type": "code",
   "execution_count": null,
   "id": "8bf7212e",
   "metadata": {},
   "outputs": [],
   "source": [
    "color = input(\"Enter the color :  \")\n",
    "pural_name = input(\"enter the pura name\")\n",
    "Subject = input(\"Enter the subject :  \")\n",
    "print(\"Rose are \"+color+\" .\")\n",
    "print(pural_name+\" are blue\")\n",
    "print(\"i hate  \"+Subject)"
   ]
  },
  {
   "cell_type": "code",
   "execution_count": null,
   "id": "8dd241ae",
   "metadata": {},
   "outputs": [],
   "source": [
    "number_a=int(input(\"enter the number of a:\"))\n",
    "number_b=int(input(\"enter the number of b :\"))\n",
    "sum = number_a+number_b\n",
    "print(sum)"
   ]
  },
  {
   "cell_type": "code",
   "execution_count": null,
   "id": "73008c9e",
   "metadata": {},
   "outputs": [],
   "source": [
    "\n",
    "A=int(input(\"Enter A value:\"))\n",
    "B=int(input(\"Enter A value:\"))\n",
    "\n",
    "\n",
    "sum=A+B\n",
    "\n",
    "\n",
    "print(sum)"
   ]
  }
 ],
 "metadata": {
  "kernelspec": {
   "display_name": "Python 3 (ipykernel)",
   "language": "python",
   "name": "python3"
  },
  "language_info": {
   "codemirror_mode": {
    "name": "ipython",
    "version": 3
   },
   "file_extension": ".py",
   "mimetype": "text/x-python",
   "name": "python",
   "nbconvert_exporter": "python",
   "pygments_lexer": "ipython3",
   "version": "3.9.13"
  }
 },
 "nbformat": 4,
 "nbformat_minor": 5
}
